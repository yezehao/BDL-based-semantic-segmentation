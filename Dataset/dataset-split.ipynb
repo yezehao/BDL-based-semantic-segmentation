{
 "cells": [
  {
   "cell_type": "code",
   "execution_count": 21,
   "metadata": {},
   "outputs": [],
   "source": [
    "import os\n",
    "import shutil\n",
    "import random\n",
    "from sklearn.model_selection import train_test_split\n",
    "\n",
    "dataset = 'MaSTr1325'\n",
    "img_dir = 'MaSTr1325_images_512x384'\n",
    "mask_dir = 'MaSTr1325_masks_512x384'\n",
    "\n",
    "# 目标路径\n",
    "train_img_dir = os.path.join(dataset, 'train')\n",
    "train_mask_dir = os.path.join(dataset, 'train_mask')\n",
    "val_img_dir = os.path.join(dataset, 'val')\n",
    "val_mask_dir = os.path.join(dataset, 'val_mask')\n",
    "test_img_dir = os.path.join(dataset, 'test')\n",
    "test_mask_dir = os.path.join(dataset, 'test_mask')\n",
    "\n",
    "# 创建目标目录\n",
    "for d in [train_img_dir, train_mask_dir, val_img_dir, val_mask_dir, test_img_dir, test_mask_dir]:\n",
    "    os.makedirs(d, exist_ok=True)\n",
    "\n",
    "images = [f for f in os.listdir(img_dir) if f.endswith('.jpg')]\n",
    "masks = [f for f in os.listdir(mask_dir) if f.endswith('.png')]\n",
    "\n",
    "# 确保文件名匹配\n",
    "images.sort()\n",
    "masks.sort()\n",
    "assert len(images) == len(masks), \"Number of images and masks do not match\""
   ]
  },
  {
   "cell_type": "code",
   "execution_count": 22,
   "metadata": {},
   "outputs": [],
   "source": [
    "# 70% 训练集, 20% 验证集, 10% 测试集\n",
    "train_imgs, temp_imgs, train_masks, temp_masks = train_test_split(images, masks, test_size=0.3, random_state=42)\n",
    "val_imgs, test_imgs, val_masks, test_masks = train_test_split(temp_imgs, temp_masks, test_size=0.33, random_state=42)\n"
   ]
  },
  {
   "cell_type": "code",
   "execution_count": 23,
   "metadata": {},
   "outputs": [],
   "source": [
    "def move_files(file_list, src_dir, dest_dir):\n",
    "    for file in file_list:\n",
    "        shutil.move(os.path.join(src_dir, file), os.path.join(dest_dir, file))\n",
    "\n",
    "# 移动训练集\n",
    "move_files(train_imgs, img_dir, train_img_dir)\n",
    "move_files(train_masks, mask_dir, train_mask_dir)\n",
    "\n",
    "# 移动验证集\n",
    "move_files(val_imgs, img_dir, val_img_dir)\n",
    "move_files(val_masks, mask_dir, val_mask_dir)\n",
    "\n",
    "# 移动测试集\n",
    "move_files(test_imgs, img_dir, test_img_dir)\n",
    "move_files(test_masks, mask_dir, test_mask_dir)\n"
   ]
  },
  {
   "cell_type": "code",
   "execution_count": 24,
   "metadata": {},
   "outputs": [
    {
     "name": "stdout",
     "output_type": "stream",
     "text": [
      "Training set size: 927\n",
      "Validation set size: 266\n",
      "Test set size: 132\n"
     ]
    }
   ],
   "source": [
    "print(\"Training set size:\", len(os.listdir(train_img_dir)))\n",
    "print(\"Validation set size:\", len(os.listdir(val_img_dir)))\n",
    "print(\"Test set size:\", len(os.listdir(test_img_dir)))\n"
   ]
  },
  {
   "cell_type": "code",
   "execution_count": 26,
   "metadata": {},
   "outputs": [
    {
     "name": "stdout",
     "output_type": "stream",
     "text": [
      "File lists generated successfully.\n"
     ]
    }
   ],
   "source": [
    "import os\n",
    "\n",
    "def generate_file_list(directory, output_file):\n",
    "    with open(output_file, 'w') as f:\n",
    "        for file_name in sorted(os.listdir(directory)):\n",
    "            if file_name.endswith('.jpg'):\n",
    "                file_name_without_ext = os.path.splitext(file_name)[0]\n",
    "                f.write(f\"{file_name_without_ext}\\n\")\n",
    "\n",
    "# 定义数据集目录和输出文件\n",
    "dataset = 'MaSTr1325'\n",
    "\n",
    "# 生成训练集图像和掩码列表\n",
    "generate_file_list(os.path.join(dataset, 'train'), os.path.join(dataset, 'train_images.txt'))\n",
    "\n",
    "# 生成验证集图像和掩码列表\n",
    "generate_file_list(os.path.join(dataset, 'val'), os.path.join(dataset, 'val_images.txt'))\n",
    "\n",
    "# 生成测试集图像和掩码列表\n",
    "generate_file_list(os.path.join(dataset, 'test'), os.path.join(dataset, 'test_images.txt'))\n",
    "\n",
    "print(\"File lists generated successfully.\")"
   ]
  }
 ],
 "metadata": {
  "kernelspec": {
   "display_name": "TEST-BDL",
   "language": "python",
   "name": "python3"
  },
  "language_info": {
   "codemirror_mode": {
    "name": "ipython",
    "version": 3
   },
   "file_extension": ".py",
   "mimetype": "text/x-python",
   "name": "python",
   "nbconvert_exporter": "python",
   "pygments_lexer": "ipython3",
   "version": "3.10.14"
  }
 },
 "nbformat": 4,
 "nbformat_minor": 2
}
