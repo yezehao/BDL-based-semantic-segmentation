{
 "cells": [
  {
   "cell_type": "code",
   "execution_count": 21,
   "metadata": {},
   "outputs": [],
   "source": [
    "# Initialization\n",
    "import os\n",
    "import shutil\n",
    "import random\n",
    "from sklearn.model_selection import train_test_split\n",
    "\n",
    "root = 'MaSTr1325'\n",
    "img_dir = 'MaSTr1325_images_512x384'\n",
    "mask_dir = 'MaSTr1325_masks_512x384'\n",
    "\n",
    "# Target Path\n",
    "train_img_dir = os.path.join(root, 'train')\n",
    "train_mask_dir = os.path.join(root, 'train_mask')\n",
    "val_img_dir = os.path.join(root, 'val')\n",
    "val_mask_dir = os.path.join(root, 'val_mask')\n",
    "test_img_dir = os.path.join(root, 'test')\n",
    "test_mask_dir = os.path.join(root, 'test_mask')\n",
    "\n",
    "# `mkdir dirs`\n",
    "for d in [train_img_dir, train_mask_dir, val_img_dir, val_mask_dir, test_img_dir, test_mask_dir]:\n",
    "    os.makedirs(d, exist_ok=True)\n",
    "\n",
    "images = [f for f in os.listdir(img_dir) if f.endswith('.jpg')]\n",
    "masks = [f for f in os.listdir(mask_dir) if f.endswith('.png')]\n",
    "\n",
    "# make sure the images and masks aligned\n",
    "images.sort()\n",
    "masks.sort()\n",
    "assert len(images) == len(masks), \"Number of images and masks do not match\""
   ]
  },
  {
   "cell_type": "markdown",
   "metadata": {},
   "source": [
    "# Dataset Splitting\n",
    "|Dataset|\\%|Number|\n",
    "|:-:|:-:|:-:|\n",
    "|Training|70|927|\n",
    "|Validation|20|266|\n",
    "|Test|10|132|"
   ]
  },
  {
   "cell_type": "code",
   "execution_count": 23,
   "metadata": {},
   "outputs": [],
   "source": [
    "# Split Original Dataset\n",
    "train_imgs, temp_imgs, train_masks, temp_masks = train_test_split(images, masks, test_size=0.3, random_state=42)\n",
    "val_imgs, test_imgs, val_masks, test_masks = train_test_split(temp_imgs, temp_masks, test_size=0.33, random_state=42)\n",
    "\n",
    "# Move File Function\n",
    "def move_files(file_list, src_dir, dest_dir):\n",
    "    for file in file_list:\n",
    "        shutil.move(os.path.join(src_dir, file), os.path.join(dest_dir, file))\n",
    "\n",
    "# Move Training Dataset\n",
    "move_files(train_imgs, img_dir, train_img_dir)\n",
    "move_files(train_masks, mask_dir, train_mask_dir)\n",
    "\n",
    "# Move Validation Dataset\n",
    "move_files(val_imgs, img_dir, val_img_dir)\n",
    "move_files(val_masks, mask_dir, val_mask_dir)\n",
    "\n",
    "# Move Testing Dataset\n",
    "move_files(test_imgs, img_dir, test_img_dir)\n",
    "move_files(test_masks, mask_dir, test_mask_dir)\n"
   ]
  },
  {
   "cell_type": "code",
   "execution_count": 24,
   "metadata": {},
   "outputs": [
    {
     "name": "stdout",
     "output_type": "stream",
     "text": [
      "Training set size: 927\n",
      "Validation set size: 266\n",
      "Test set size: 132\n"
     ]
    }
   ],
   "source": [
    "print(\"Training set size:\", len(os.listdir(train_img_dir)))\n",
    "print(\"Validation set size:\", len(os.listdir(val_img_dir)))\n",
    "print(\"Test set size:\", len(os.listdir(test_img_dir)))"
   ]
  },
  {
   "cell_type": "markdown",
   "metadata": {},
   "source": [
    "# Generate the lists of dataset"
   ]
  },
  {
   "cell_type": "code",
   "execution_count": 26,
   "metadata": {},
   "outputs": [
    {
     "name": "stdout",
     "output_type": "stream",
     "text": [
      "File lists generated successfully.\n"
     ]
    }
   ],
   "source": [
    "import os\n",
    "\n",
    "def generate_file_list(directory, output_file):\n",
    "    with open(output_file, 'w') as f:\n",
    "        for file_name in sorted(os.listdir(directory)):\n",
    "            if file_name.endswith('.jpg'):\n",
    "                file_name_without_ext = os.path.splitext(file_name)[0]\n",
    "                f.write(f\"{file_name_without_ext}\\n\")\n",
    "\n",
    "# Define `root`\n",
    "root = 'MaSTr1325'\n",
    "\n",
    "# Generate the list of images and masks about training dataset\n",
    "generate_file_list(os.path.join(root, 'train'), os.path.join(root, 'train_images.txt'))\n",
    "\n",
    "# Generate the list of images and masks about validation dataset\n",
    "generate_file_list(os.path.join(root, 'val'), os.path.join(root, 'val_images.txt'))\n",
    "\n",
    "# Generate the list of images and masks about testing dataset\n",
    "generate_file_list(os.path.join(root, 'test'), os.path.join(root, 'test_images.txt'))\n",
    "\n",
    "print(\"File lists generated successfully.\")"
   ]
  },
  {
   "cell_type": "markdown",
   "metadata": {},
   "source": [
    "# Sort & Rename images and masks in Datasets"
   ]
  },
  {
   "cell_type": "code",
   "execution_count": 7,
   "metadata": {},
   "outputs": [
    {
     "name": "stdout",
     "output_type": "stream",
     "text": [
      "Rename Successfully.\n"
     ]
    }
   ],
   "source": [
    "import os\n",
    "import yaml\n",
    "\n",
    "\n",
    "\n",
    "def rename_files(images_folder, masks_folder):\n",
    "    # Define root of images and masks\n",
    "    image_files = sorted(os.listdir(images_folder))\n",
    "    mask_files = sorted(os.listdir(masks_folder))\n",
    "\n",
    "    # len of images and masks aligned\n",
    "    if len(image_files) != len(mask_files):\n",
    "        raise ValueError(\"The number of images and masks do not match.\")\n",
    "\n",
    "    for i, (img, mask) in enumerate(zip(image_files, mask_files)):\n",
    "        # Generatet the file name，'{i+1}.jpg' and '{i+1}m.png'\n",
    "        new_image_name = f\"{i+1:03d}.jpg\"\n",
    "        new_mask_name = f\"{i+1:03d}m.png\"\n",
    "\n",
    "        # Complete File Paths\n",
    "        img_path = os.path.join(images_folder, img)\n",
    "        new_img_path = os.path.join(images_folder, new_image_name)\n",
    "\n",
    "        mask_path = os.path.join(masks_folder, mask)\n",
    "        new_mask_path = os.path.join(masks_folder, new_mask_name)\n",
    "\n",
    "        # Rename Files\n",
    "        os.rename(img_path, new_img_path)\n",
    "        os.rename(mask_path, new_mask_path)\n",
    "\n",
    "# Read config.yaml\n",
    "with open('config.yaml', 'r') as file:\n",
    "    config = yaml.safe_load(file)\n",
    "\n",
    "os.chdir('..')\n",
    "rename_files(config['train_img_dir'], config['train_mask_dir'])\n",
    "rename_files(config['val_img_dir'], config['val_mask_dir'])\n",
    "rename_files(config['test_img_dir'], config['test_mask_dir'])\n",
    "os.chdir('Dataset')\n",
    "\n",
    "print(f'Rename Successfully.')"
   ]
  }
 ],
 "metadata": {
  "kernelspec": {
   "display_name": "TEST-BDL",
   "language": "python",
   "name": "python3"
  },
  "language_info": {
   "codemirror_mode": {
    "name": "ipython",
    "version": 3
   },
   "file_extension": ".py",
   "mimetype": "text/x-python",
   "name": "python",
   "nbconvert_exporter": "python",
   "pygments_lexer": "ipython3",
   "version": "3.10.14"
  }
 },
 "nbformat": 4,
 "nbformat_minor": 2
}
